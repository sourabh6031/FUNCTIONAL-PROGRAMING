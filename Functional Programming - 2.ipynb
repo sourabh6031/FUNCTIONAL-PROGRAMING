{
 "cells": [
  {
   "cell_type": "markdown",
   "id": "bb8e5dff",
   "metadata": {},
   "source": [
    "###  REVISION"
   ]
  },
  {
   "cell_type": "markdown",
   "id": "d14948eb",
   "metadata": {},
   "source": [
    "####  LAMBDA FUNCTION"
   ]
  },
  {
   "cell_type": "code",
   "execution_count": null,
   "id": "2911ef9e",
   "metadata": {},
   "outputs": [],
   "source": []
  },
  {
   "cell_type": "code",
   "execution_count": null,
   "id": "0f159fca",
   "metadata": {},
   "outputs": [],
   "source": [
    "# function for square"
   ]
  },
  {
   "cell_type": "code",
   "execution_count": 1,
   "id": "88ba8445",
   "metadata": {},
   "outputs": [],
   "source": [
    "def square(x):\n",
    "    return x**2"
   ]
  },
  {
   "cell_type": "code",
   "execution_count": 3,
   "id": "17a0e3ed",
   "metadata": {},
   "outputs": [
    {
     "data": {
      "text/plain": [
       "16"
      ]
     },
     "execution_count": 3,
     "metadata": {},
     "output_type": "execute_result"
    }
   ],
   "source": [
    "square(4)"
   ]
  },
  {
   "cell_type": "code",
   "execution_count": 5,
   "id": "fffde296",
   "metadata": {},
   "outputs": [
    {
     "data": {
      "text/plain": [
       "64"
      ]
     },
     "execution_count": 5,
     "metadata": {},
     "output_type": "execute_result"
    }
   ],
   "source": [
    "(lambda x : x**2)(8)"
   ]
  },
  {
   "cell_type": "code",
   "execution_count": null,
   "id": "66e5e69d",
   "metadata": {},
   "outputs": [],
   "source": []
  },
  {
   "cell_type": "code",
   "execution_count": null,
   "id": "53f310d9",
   "metadata": {},
   "outputs": [],
   "source": [
    "# function for exponent of 'n' any number"
   ]
  },
  {
   "cell_type": "code",
   "execution_count": 7,
   "id": "d7859c55",
   "metadata": {},
   "outputs": [],
   "source": [
    "def square1(x,n):\n",
    "    return x**n"
   ]
  },
  {
   "cell_type": "code",
   "execution_count": 11,
   "id": "e7474763",
   "metadata": {},
   "outputs": [
    {
     "data": {
      "text/plain": [
       "27"
      ]
     },
     "execution_count": 11,
     "metadata": {},
     "output_type": "execute_result"
    }
   ],
   "source": [
    "square(3,3)"
   ]
  },
  {
   "cell_type": "code",
   "execution_count": 12,
   "id": "cfc400d4",
   "metadata": {},
   "outputs": [
    {
     "data": {
      "text/plain": [
       "27"
      ]
     },
     "execution_count": 12,
     "metadata": {},
     "output_type": "execute_result"
    }
   ],
   "source": [
    "(lambda x,n:x**n)(3,3)"
   ]
  },
  {
   "cell_type": "code",
   "execution_count": null,
   "id": "bf5df3cf",
   "metadata": {},
   "outputs": [],
   "source": []
  },
  {
   "cell_type": "code",
   "execution_count": null,
   "id": "1b3bdbe8",
   "metadata": {},
   "outputs": [],
   "source": []
  },
  {
   "cell_type": "code",
   "execution_count": 14,
   "id": "420005cc",
   "metadata": {},
   "outputs": [
    {
     "data": {
      "text/plain": [
       "44"
      ]
     },
     "execution_count": 14,
     "metadata": {},
     "output_type": "execute_result"
    }
   ],
   "source": [
    "(lambda x:x if x>5 else 0)(44)"
   ]
  },
  {
   "cell_type": "code",
   "execution_count": null,
   "id": "5ce9a6a3",
   "metadata": {},
   "outputs": [],
   "source": []
  },
  {
   "cell_type": "code",
   "execution_count": null,
   "id": "9e1bf815",
   "metadata": {},
   "outputs": [],
   "source": []
  },
  {
   "cell_type": "code",
   "execution_count": null,
   "id": "379fef5a",
   "metadata": {},
   "outputs": [],
   "source": [
    "# write a lambda func to fetch marks of 'guzel'"
   ]
  },
  {
   "cell_type": "code",
   "execution_count": 16,
   "id": "37d40b2a",
   "metadata": {},
   "outputs": [],
   "source": [
    "students = [\n",
    "    {'name':'sourabh','marks':50},\n",
    "    {'name':'shubham','marks':70},\n",
    "    {'name':'guzel','marks':60},\n",
    "    {'name':'kumar','marks':80}\n",
    "]"
   ]
  },
  {
   "cell_type": "code",
   "execution_count": 17,
   "id": "79cc549f",
   "metadata": {},
   "outputs": [
    {
     "data": {
      "text/plain": [
       "[{'name': 'sourabh', 'marks': 50},\n",
       " {'name': 'shubham', 'marks': 70},\n",
       " {'name': 'guzel', 'marks': 60},\n",
       " {'name': 'kumar', 'marks': 80}]"
      ]
     },
     "execution_count": 17,
     "metadata": {},
     "output_type": "execute_result"
    }
   ],
   "source": [
    "students"
   ]
  },
  {
   "cell_type": "code",
   "execution_count": null,
   "id": "7087bb31",
   "metadata": {},
   "outputs": [],
   "source": []
  },
  {
   "cell_type": "code",
   "execution_count": 18,
   "id": "0045499e",
   "metadata": {},
   "outputs": [
    {
     "data": {
      "text/plain": [
       "60"
      ]
     },
     "execution_count": 18,
     "metadata": {},
     "output_type": "execute_result"
    }
   ],
   "source": [
    "(lambda x:x[2]['marks'])(students)"
   ]
  },
  {
   "cell_type": "code",
   "execution_count": null,
   "id": "7e243c81",
   "metadata": {},
   "outputs": [],
   "source": [
    "# or"
   ]
  },
  {
   "cell_type": "code",
   "execution_count": 21,
   "id": "4918f250",
   "metadata": {},
   "outputs": [],
   "source": [
    "get_marks = (lambda x:x['marks'])"
   ]
  },
  {
   "cell_type": "code",
   "execution_count": 23,
   "id": "2948728b",
   "metadata": {},
   "outputs": [
    {
     "data": {
      "text/plain": [
       "60"
      ]
     },
     "execution_count": 23,
     "metadata": {},
     "output_type": "execute_result"
    }
   ],
   "source": [
    "get_marks(students[2])"
   ]
  },
  {
   "cell_type": "code",
   "execution_count": null,
   "id": "54f62b47",
   "metadata": {},
   "outputs": [],
   "source": []
  },
  {
   "cell_type": "code",
   "execution_count": null,
   "id": "d36bce30",
   "metadata": {},
   "outputs": [],
   "source": [
    "# write a lambda func to fetch marks of 'sourabh' and 'shubham' "
   ]
  },
  {
   "cell_type": "code",
   "execution_count": 26,
   "id": "abe5e1dc",
   "metadata": {},
   "outputs": [
    {
     "ename": "SyntaxError",
     "evalue": "invalid syntax (3679589599.py, line 1)",
     "output_type": "error",
     "traceback": [
      "\u001b[1;36m  Input \u001b[1;32mIn [26]\u001b[1;36m\u001b[0m\n\u001b[1;33m    (lambda x:x['marks'] if (x['name']=='shubham') or (x['name']=='sourabh'))(students)\u001b[0m\n\u001b[1;37m                                                                            ^\u001b[0m\n\u001b[1;31mSyntaxError\u001b[0m\u001b[1;31m:\u001b[0m invalid syntax\n"
     ]
    }
   ],
   "source": [
    "(lambda x:x['marks'] if (x['name']=='shubham') or (x['name']=='sourabh'))(students)"
   ]
  },
  {
   "cell_type": "code",
   "execution_count": 27,
   "id": "9f46adf4",
   "metadata": {},
   "outputs": [
    {
     "ename": "SyntaxError",
     "evalue": "invalid syntax (4103546803.py, line 1)",
     "output_type": "error",
     "traceback": [
      "\u001b[1;36m  Input \u001b[1;32mIn [27]\u001b[1;36m\u001b[0m\n\u001b[1;33m    (lambda x:x['marks'] if (x[i]==0) or (x[i]==2))(students)\u001b[0m\n\u001b[1;37m                                                  ^\u001b[0m\n\u001b[1;31mSyntaxError\u001b[0m\u001b[1;31m:\u001b[0m invalid syntax\n"
     ]
    }
   ],
   "source": [
    "(lambda x:x['marks'] if (x[i]==0) or (x[i]==2))(students)"
   ]
  },
  {
   "cell_type": "code",
   "execution_count": 28,
   "id": "a24294ae",
   "metadata": {},
   "outputs": [
    {
     "ename": "SyntaxError",
     "evalue": "invalid syntax (1666261978.py, line 1)",
     "output_type": "error",
     "traceback": [
      "\u001b[1;36m  Input \u001b[1;32mIn [28]\u001b[1;36m\u001b[0m\n\u001b[1;33m    (lambda x:x[\"marks\"] if name==\"A\" or name==\"B\")(students)\u001b[0m\n\u001b[1;37m                                                  ^\u001b[0m\n\u001b[1;31mSyntaxError\u001b[0m\u001b[1;31m:\u001b[0m invalid syntax\n"
     ]
    }
   ],
   "source": [
    "(lambda x:x[\"marks\"] if name==\"A\" or name==\"B\")(students)"
   ]
  },
  {
   "cell_type": "code",
   "execution_count": null,
   "id": "140cc8d8",
   "metadata": {},
   "outputs": [],
   "source": []
  },
  {
   "cell_type": "code",
   "execution_count": null,
   "id": "dc7f2b1f",
   "metadata": {},
   "outputs": [],
   "source": []
  },
  {
   "cell_type": "markdown",
   "id": "ddb65a8f",
   "metadata": {},
   "source": [
    "#### HIGHER ORDER FUNCTION"
   ]
  },
  {
   "cell_type": "code",
   "execution_count": 30,
   "id": "2a0598da",
   "metadata": {},
   "outputs": [
    {
     "name": "stdout",
     "output_type": "stream",
     "text": [
      "<function gen_exp.<locals>.exp at 0x000001CA4CFC7E50>\n"
     ]
    }
   ],
   "source": [
    "def gen_exp(n):\n",
    "    def exp(x):\n",
    "        return x**n\n",
    "    return exp\n",
    "exp = gen_exp(2)\n",
    "print(exp) \n"
   ]
  },
  {
   "cell_type": "code",
   "execution_count": null,
   "id": "c52e0e7e",
   "metadata": {},
   "outputs": [],
   "source": []
  },
  {
   "cell_type": "code",
   "execution_count": 32,
   "id": "12723305",
   "metadata": {},
   "outputs": [
    {
     "name": "stdout",
     "output_type": "stream",
     "text": [
      "9\n"
     ]
    }
   ],
   "source": [
    "def gen_exp(n):\n",
    "    def exp(x):\n",
    "        return x**n\n",
    "    return exp(3)\n",
    "exp = gen_exp(2)\n",
    "print(exp) \n"
   ]
  },
  {
   "cell_type": "code",
   "execution_count": null,
   "id": "c25bcad1",
   "metadata": {},
   "outputs": [],
   "source": []
  },
  {
   "cell_type": "code",
   "execution_count": 33,
   "id": "e79937df",
   "metadata": {},
   "outputs": [
    {
     "name": "stdout",
     "output_type": "stream",
     "text": [
      "<function gen_exp.<locals>.exp at 0x000001CA4CC52EE0>\n"
     ]
    },
    {
     "data": {
      "text/plain": [
       "100"
      ]
     },
     "execution_count": 33,
     "metadata": {},
     "output_type": "execute_result"
    }
   ],
   "source": [
    "def gen_exp(n):\n",
    "    def exp(x):\n",
    "        return x**n\n",
    "    return exp\n",
    "exp = gen_exp(2)\n",
    "print(exp) \n",
    "exp(10)"
   ]
  },
  {
   "cell_type": "code",
   "execution_count": null,
   "id": "2b285481",
   "metadata": {},
   "outputs": [],
   "source": []
  },
  {
   "cell_type": "code",
   "execution_count": 37,
   "id": "d51382fb",
   "metadata": {},
   "outputs": [
    {
     "ename": "NameError",
     "evalue": "name 'gexp' is not defined",
     "output_type": "error",
     "traceback": [
      "\u001b[1;31m---------------------------------------------------------------------------\u001b[0m",
      "\u001b[1;31mNameError\u001b[0m                                 Traceback (most recent call last)",
      "Input \u001b[1;32mIn [37]\u001b[0m, in \u001b[0;36m<cell line: 6>\u001b[1;34m()\u001b[0m\n\u001b[0;32m      3\u001b[0m         \u001b[38;5;28;01mreturn\u001b[39;00m x\u001b[38;5;241m*\u001b[39m\u001b[38;5;241m*\u001b[39mn\n\u001b[0;32m      4\u001b[0m     \u001b[38;5;28;01mreturn\u001b[39;00m exp\n\u001b[1;32m----> 6\u001b[0m \u001b[43mgexp\u001b[49m(\u001b[38;5;241m10\u001b[39m)\n\u001b[0;32m      7\u001b[0m gexp \u001b[38;5;241m=\u001b[39m gen_exp(\u001b[38;5;241m2\u001b[39m)\n\u001b[0;32m      8\u001b[0m \u001b[38;5;28mprint\u001b[39m(gexp)\n",
      "\u001b[1;31mNameError\u001b[0m: name 'gexp' is not defined"
     ]
    }
   ],
   "source": [
    "def gen_exp(n):\n",
    "    def exp(x):\n",
    "        return x**n\n",
    "    return exp\n",
    "\n",
    "gexp(10)  # since this variable is called before assignment, this is giving error  \n",
    "gexp = gen_exp(2)\n",
    "print(gexp)\n",
    "\n"
   ]
  },
  {
   "cell_type": "code",
   "execution_count": null,
   "id": "727f8856",
   "metadata": {},
   "outputs": [],
   "source": []
  },
  {
   "cell_type": "code",
   "execution_count": 38,
   "id": "acb984a4",
   "metadata": {},
   "outputs": [],
   "source": [
    "def fun1():\n",
    "    def fun2(a):\n",
    "        return print('you have given this input: ',a)\n",
    "    return fun2"
   ]
  },
  {
   "cell_type": "code",
   "execution_count": 42,
   "id": "93440b5f",
   "metadata": {},
   "outputs": [],
   "source": [
    "a = fun1()"
   ]
  },
  {
   "cell_type": "code",
   "execution_count": 43,
   "id": "99da6010",
   "metadata": {},
   "outputs": [
    {
     "data": {
      "text/plain": [
       "<function __main__.fun1.<locals>.fun2(a)>"
      ]
     },
     "execution_count": 43,
     "metadata": {},
     "output_type": "execute_result"
    }
   ],
   "source": [
    "a"
   ]
  },
  {
   "cell_type": "code",
   "execution_count": 44,
   "id": "a2510d11",
   "metadata": {},
   "outputs": [
    {
     "name": "stdout",
     "output_type": "stream",
     "text": [
      "you have given this input:  6\n"
     ]
    }
   ],
   "source": [
    "a(6)"
   ]
  },
  {
   "cell_type": "code",
   "execution_count": null,
   "id": "f91b6bc0",
   "metadata": {},
   "outputs": [],
   "source": []
  },
  {
   "cell_type": "code",
   "execution_count": null,
   "id": "002515c7",
   "metadata": {},
   "outputs": [],
   "source": []
  },
  {
   "cell_type": "markdown",
   "id": "503d7e99",
   "metadata": {},
   "source": [
    "### DECORATORS"
   ]
  },
  {
   "cell_type": "code",
   "execution_count": 45,
   "id": "8b0282da",
   "metadata": {},
   "outputs": [],
   "source": [
    "def boo(num):\n",
    "    return print('this is number ',num)"
   ]
  },
  {
   "cell_type": "code",
   "execution_count": 52,
   "id": "2286fb94",
   "metadata": {},
   "outputs": [],
   "source": [
    "def foo():\n",
    "    print('-------')\n",
    "    print(boo(8))\n",
    "    print('--------')"
   ]
  },
  {
   "cell_type": "code",
   "execution_count": 54,
   "id": "156900f7",
   "metadata": {},
   "outputs": [
    {
     "name": "stdout",
     "output_type": "stream",
     "text": [
      "-------\n",
      "this is number  8\n",
      "None\n",
      "--------\n"
     ]
    }
   ],
   "source": [
    "a = foo()\n",
    "a"
   ]
  },
  {
   "cell_type": "code",
   "execution_count": null,
   "id": "2d16ea3d",
   "metadata": {},
   "outputs": [],
   "source": []
  },
  {
   "cell_type": "code",
   "execution_count": 63,
   "id": "1c8a25c3",
   "metadata": {},
   "outputs": [],
   "source": [
    "def funn1():\n",
    "    print('this is the answer')"
   ]
  },
  {
   "cell_type": "code",
   "execution_count": 64,
   "id": "315678c7",
   "metadata": {},
   "outputs": [],
   "source": [
    "def funn2(a):\n",
    "    print('---------')\n",
    "    funn1()\n",
    "    print('---------')"
   ]
  },
  {
   "cell_type": "code",
   "execution_count": 65,
   "id": "b4341e1b",
   "metadata": {},
   "outputs": [
    {
     "name": "stdout",
     "output_type": "stream",
     "text": [
      "---------\n",
      "this is the answer\n",
      "---------\n"
     ]
    }
   ],
   "source": [
    "funn2(funn1)"
   ]
  },
  {
   "cell_type": "code",
   "execution_count": null,
   "id": "c16dd8f3",
   "metadata": {},
   "outputs": [],
   "source": []
  },
  {
   "cell_type": "code",
   "execution_count": null,
   "id": "f08f5b7a",
   "metadata": {},
   "outputs": [],
   "source": [
    "# ------------------------------------------------------------------------"
   ]
  },
  {
   "cell_type": "code",
   "execution_count": null,
   "id": "e71acdfa",
   "metadata": {},
   "outputs": [],
   "source": []
  },
  {
   "cell_type": "code",
   "execution_count": 75,
   "id": "dcb1ea15",
   "metadata": {},
   "outputs": [],
   "source": [
    "def func():\n",
    "    print('what')"
   ]
  },
  {
   "cell_type": "code",
   "execution_count": 81,
   "id": "5e8af239",
   "metadata": {},
   "outputs": [],
   "source": [
    "def pretty(func):\n",
    "    def inner():\n",
    "        print('------')\n",
    "        func()\n",
    "        print('------')\n",
    "    return inner()"
   ]
  },
  {
   "cell_type": "code",
   "execution_count": 84,
   "id": "dbc717d0",
   "metadata": {},
   "outputs": [
    {
     "name": "stdout",
     "output_type": "stream",
     "text": [
      "------\n",
      "what\n",
      "------\n"
     ]
    }
   ],
   "source": [
    "pretty(func)"
   ]
  },
  {
   "cell_type": "code",
   "execution_count": null,
   "id": "674a41a2",
   "metadata": {},
   "outputs": [],
   "source": []
  },
  {
   "cell_type": "code",
   "execution_count": null,
   "id": "bdd6d1b5",
   "metadata": {},
   "outputs": [],
   "source": [
    "'@' this is a decorator.\n",
    "# whatever fucn under @____ \n",
    "#                            (def foo():\n",
    "#                                print('say')),  \n",
    "# is passed to the defined @_'function'\n",
    "# as pretty func expect some argument, so, decorator will replace this passed function as its argument.\n",
    "# below is the example"
   ]
  },
  {
   "cell_type": "code",
   "execution_count": 83,
   "id": "f8f835f9",
   "metadata": {},
   "outputs": [
    {
     "name": "stdout",
     "output_type": "stream",
     "text": [
      "------\n",
      "say\n",
      "------\n"
     ]
    }
   ],
   "source": [
    "@pretty\n",
    "def foo():\n",
    "    print('say')"
   ]
  },
  {
   "cell_type": "code",
   "execution_count": null,
   "id": "88c843a4",
   "metadata": {},
   "outputs": [],
   "source": []
  },
  {
   "cell_type": "code",
   "execution_count": null,
   "id": "8e701996",
   "metadata": {},
   "outputs": [],
   "source": []
  },
  {
   "cell_type": "markdown",
   "id": "23d48742",
   "metadata": {},
   "source": [
    "### FUNCTIONAL PROGRAMING"
   ]
  },
  {
   "cell_type": "markdown",
   "id": "48f17f11",
   "metadata": {},
   "source": [
    "#### MAP, FILTER, ZIP, REDUCE"
   ]
  },
  {
   "cell_type": "code",
   "execution_count": null,
   "id": "33ee317f",
   "metadata": {},
   "outputs": [],
   "source": []
  },
  {
   "cell_type": "markdown",
   "id": "e9c6b1c1",
   "metadata": {},
   "source": [
    "#### map"
   ]
  },
  {
   "cell_type": "code",
   "execution_count": null,
   "id": "8863cb50",
   "metadata": {},
   "outputs": [],
   "source": [
    "# map accept first argument as a function object and second as a iterator object (list,tuple,etc)"
   ]
  },
  {
   "cell_type": "code",
   "execution_count": null,
   "id": "17b3b4e6",
   "metadata": {},
   "outputs": [],
   "source": []
  },
  {
   "cell_type": "code",
   "execution_count": 86,
   "id": "8ae8e678",
   "metadata": {},
   "outputs": [],
   "source": [
    "lst = [1,2,3]"
   ]
  },
  {
   "cell_type": "code",
   "execution_count": 104,
   "id": "7153373b",
   "metadata": {},
   "outputs": [
    {
     "data": {
      "text/plain": [
       "[1, 4, 9]"
      ]
     },
     "execution_count": 104,
     "metadata": {},
     "output_type": "execute_result"
    }
   ],
   "source": [
    "list(map(lambda x:x**2 , lst))"
   ]
  },
  {
   "cell_type": "code",
   "execution_count": null,
   "id": "9544aef6",
   "metadata": {},
   "outputs": [],
   "source": []
  },
  {
   "cell_type": "code",
   "execution_count": 95,
   "id": "dfddfa77",
   "metadata": {},
   "outputs": [
    {
     "data": {
      "text/plain": [
       "[1, 4, 9]"
      ]
     },
     "execution_count": 95,
     "metadata": {},
     "output_type": "execute_result"
    }
   ],
   "source": [
    "[x**2 for x in lst]"
   ]
  },
  {
   "cell_type": "code",
   "execution_count": null,
   "id": "a1455154",
   "metadata": {},
   "outputs": [],
   "source": []
  },
  {
   "cell_type": "code",
   "execution_count": 98,
   "id": "e6c9f4ab",
   "metadata": {},
   "outputs": [],
   "source": [
    "square = lambda x : x**2"
   ]
  },
  {
   "cell_type": "code",
   "execution_count": 99,
   "id": "5509354b",
   "metadata": {},
   "outputs": [
    {
     "data": {
      "text/plain": [
       "[1, 4, 9]"
      ]
     },
     "execution_count": 99,
     "metadata": {},
     "output_type": "execute_result"
    }
   ],
   "source": [
    "[square(x) for x in lst]"
   ]
  },
  {
   "cell_type": "code",
   "execution_count": 103,
   "id": "c076effc",
   "metadata": {},
   "outputs": [
    {
     "data": {
      "text/plain": [
       "[1, 4, 9]"
      ]
     },
     "execution_count": 103,
     "metadata": {},
     "output_type": "execute_result"
    }
   ],
   "source": [
    "# ,map require function and iterator\n",
    "list(map(square,lst))"
   ]
  },
  {
   "cell_type": "code",
   "execution_count": null,
   "id": "4f40331c",
   "metadata": {},
   "outputs": [],
   "source": []
  },
  {
   "cell_type": "code",
   "execution_count": null,
   "id": "d49c19ad",
   "metadata": {},
   "outputs": [],
   "source": [
    "# more example of maps"
   ]
  },
  {
   "cell_type": "code",
   "execution_count": null,
   "id": "1cb2cfe3",
   "metadata": {},
   "outputs": [],
   "source": [
    "#1"
   ]
  },
  {
   "cell_type": "code",
   "execution_count": 105,
   "id": "71e64285",
   "metadata": {},
   "outputs": [],
   "source": [
    "def sums(x,y):\n",
    "    return x+y"
   ]
  },
  {
   "cell_type": "code",
   "execution_count": 106,
   "id": "09f5e7ae",
   "metadata": {},
   "outputs": [
    {
     "data": {
      "text/plain": [
       "3"
      ]
     },
     "execution_count": 106,
     "metadata": {},
     "output_type": "execute_result"
    }
   ],
   "source": [
    "sums(1,2)"
   ]
  },
  {
   "cell_type": "code",
   "execution_count": 108,
   "id": "446d3c49",
   "metadata": {},
   "outputs": [],
   "source": [
    "listt1 = [1,2,3]\n",
    "listt2 = [4,5,6]"
   ]
  },
  {
   "cell_type": "code",
   "execution_count": null,
   "id": "fca1a1c9",
   "metadata": {},
   "outputs": [],
   "source": [
    "# add listt1 listt2 using map"
   ]
  },
  {
   "cell_type": "code",
   "execution_count": 109,
   "id": "f3ab8ad8",
   "metadata": {},
   "outputs": [
    {
     "data": {
      "text/plain": [
       "[5, 7, 9]"
      ]
     },
     "execution_count": 109,
     "metadata": {},
     "output_type": "execute_result"
    }
   ],
   "source": [
    "list(map(sums,listt1,listt2))"
   ]
  },
  {
   "cell_type": "code",
   "execution_count": null,
   "id": "80846368",
   "metadata": {},
   "outputs": [],
   "source": []
  },
  {
   "cell_type": "code",
   "execution_count": 111,
   "id": "16618a33",
   "metadata": {},
   "outputs": [],
   "source": [
    "#2"
   ]
  },
  {
   "cell_type": "code",
   "execution_count": null,
   "id": "cf9635d9",
   "metadata": {},
   "outputs": [],
   "source": [
    "# add listt1 listt2 using map and lambda function"
   ]
  },
  {
   "cell_type": "code",
   "execution_count": 110,
   "id": "5331af6c",
   "metadata": {},
   "outputs": [
    {
     "data": {
      "text/plain": [
       "[5, 7, 9]"
      ]
     },
     "execution_count": 110,
     "metadata": {},
     "output_type": "execute_result"
    }
   ],
   "source": [
    "list(map(lambda x,y : x+y,listt1,listt2))"
   ]
  },
  {
   "cell_type": "code",
   "execution_count": null,
   "id": "0ee986e7",
   "metadata": {},
   "outputs": [],
   "source": []
  },
  {
   "cell_type": "code",
   "execution_count": null,
   "id": "da1fbc6f",
   "metadata": {},
   "outputs": [],
   "source": [
    "#3"
   ]
  },
  {
   "cell_type": "code",
   "execution_count": 112,
   "id": "530b44c5",
   "metadata": {},
   "outputs": [],
   "source": [
    "heights = [144,233,152,84,400,256,324,158,351,254,124,65,458]"
   ]
  },
  {
   "cell_type": "code",
   "execution_count": null,
   "id": "442b29a3",
   "metadata": {},
   "outputs": [],
   "source": [
    "# write lambda function to print if 'S' if x is smaller than 300 else 'M'"
   ]
  },
  {
   "cell_type": "code",
   "execution_count": null,
   "id": "c19075ba",
   "metadata": {},
   "outputs": [],
   "source": [
    "# (lambda argument 'x': 'value' if condition else 'value',iterator)"
   ]
  },
  {
   "cell_type": "code",
   "execution_count": 114,
   "id": "ef082ba3",
   "metadata": {},
   "outputs": [
    {
     "data": {
      "text/plain": [
       "['S', 'S', 'S', 'S', 'M', 'S', 'M', 'S', 'M', 'S', 'S', 'S', 'M']"
      ]
     },
     "execution_count": 114,
     "metadata": {},
     "output_type": "execute_result"
    }
   ],
   "source": [
    "list(map(lambda x:'S' if x<300 else 'M',heights))"
   ]
  },
  {
   "cell_type": "code",
   "execution_count": null,
   "id": "bb401f7f",
   "metadata": {},
   "outputs": [],
   "source": []
  },
  {
   "cell_type": "code",
   "execution_count": 115,
   "id": "516506dc",
   "metadata": {},
   "outputs": [],
   "source": [
    "# write lambda function to print if 'S' if x is smaller than 200, 'M' if greater than 200 but less than 300 else 'G' "
   ]
  },
  {
   "cell_type": "code",
   "execution_count": null,
   "id": "e480cdcf",
   "metadata": {},
   "outputs": [],
   "source": [
    "# ('value' <if condition>,   else 'value' <if condition>       else 'value', iterator)"
   ]
  },
  {
   "cell_type": "code",
   "execution_count": 119,
   "id": "c624bebc",
   "metadata": {},
   "outputs": [
    {
     "data": {
      "text/plain": [
       "['S', 'M', 'S', 'S', 'G', 'M', 'G', 'S', 'G', 'M', 'S', 'S', 'G']"
      ]
     },
     "execution_count": 119,
     "metadata": {},
     "output_type": "execute_result"
    }
   ],
   "source": [
    "list(map(lambda x: 'S' if x<=200 else 'M' if 200<x<300 else 'G',heights))"
   ]
  },
  {
   "cell_type": "code",
   "execution_count": null,
   "id": "2ad182b1",
   "metadata": {},
   "outputs": [],
   "source": []
  },
  {
   "cell_type": "markdown",
   "id": "7cee4e2e",
   "metadata": {},
   "source": [
    "#### FILTER"
   ]
  },
  {
   "cell_type": "code",
   "execution_count": null,
   "id": "f85bbae0",
   "metadata": {},
   "outputs": [],
   "source": [
    "#1"
   ]
  },
  {
   "cell_type": "code",
   "execution_count": 121,
   "id": "17e5f0fb",
   "metadata": {},
   "outputs": [
    {
     "data": {
      "text/plain": [
       "[144, 233, 152, 84, 400, 256, 324, 158, 351, 254, 124, 65, 458]"
      ]
     },
     "execution_count": 121,
     "metadata": {},
     "output_type": "execute_result"
    }
   ],
   "source": [
    "heights"
   ]
  },
  {
   "cell_type": "code",
   "execution_count": null,
   "id": "6a436fea",
   "metadata": {},
   "outputs": [],
   "source": []
  },
  {
   "cell_type": "code",
   "execution_count": 123,
   "id": "6b7337a1",
   "metadata": {},
   "outputs": [],
   "source": [
    "# filter value greater than 250"
   ]
  },
  {
   "cell_type": "code",
   "execution_count": 122,
   "id": "ceb090a6",
   "metadata": {},
   "outputs": [
    {
     "data": {
      "text/plain": [
       "[400, 256, 324, 351, 254, 458]"
      ]
     },
     "execution_count": 122,
     "metadata": {},
     "output_type": "execute_result"
    }
   ],
   "source": [
    "[x for x in heights if x>250]"
   ]
  },
  {
   "cell_type": "code",
   "execution_count": null,
   "id": "8d6cf654",
   "metadata": {},
   "outputs": [],
   "source": []
  },
  {
   "cell_type": "code",
   "execution_count": null,
   "id": "54ac8165",
   "metadata": {},
   "outputs": [],
   "source": [
    "# filter accept function object which return boolean values."
   ]
  },
  {
   "cell_type": "code",
   "execution_count": 126,
   "id": "e469be97",
   "metadata": {},
   "outputs": [
    {
     "data": {
      "text/plain": [
       "[400, 256, 324, 351, 254, 458]"
      ]
     },
     "execution_count": 126,
     "metadata": {},
     "output_type": "execute_result"
    }
   ],
   "source": [
    "list(filter(lambda x: x>250,heights))"
   ]
  },
  {
   "cell_type": "code",
   "execution_count": null,
   "id": "985ce11f",
   "metadata": {},
   "outputs": [],
   "source": []
  },
  {
   "cell_type": "code",
   "execution_count": null,
   "id": "25dd8d90",
   "metadata": {},
   "outputs": [],
   "source": []
  },
  {
   "cell_type": "markdown",
   "id": "7fee6576",
   "metadata": {},
   "source": [
    "#### ZIP"
   ]
  },
  {
   "cell_type": "code",
   "execution_count": null,
   "id": "0ad203c5",
   "metadata": {},
   "outputs": [],
   "source": [
    "#1"
   ]
  },
  {
   "cell_type": "code",
   "execution_count": null,
   "id": "db96e8a5",
   "metadata": {},
   "outputs": [],
   "source": [
    "# zip a and b"
   ]
  },
  {
   "cell_type": "code",
   "execution_count": 127,
   "id": "4355e559",
   "metadata": {},
   "outputs": [],
   "source": [
    "a = [1,2,3]\n",
    "b = ['a','b','c']"
   ]
  },
  {
   "cell_type": "code",
   "execution_count": 128,
   "id": "0950d803",
   "metadata": {},
   "outputs": [
    {
     "data": {
      "text/plain": [
       "[(1, 'a'), (2, 'b'), (3, 'c')]"
      ]
     },
     "execution_count": 128,
     "metadata": {},
     "output_type": "execute_result"
    }
   ],
   "source": [
    "list(zip(a,b))"
   ]
  },
  {
   "cell_type": "code",
   "execution_count": null,
   "id": "76a74e11",
   "metadata": {},
   "outputs": [],
   "source": []
  },
  {
   "cell_type": "code",
   "execution_count": 131,
   "id": "b044a1c3",
   "metadata": {},
   "outputs": [],
   "source": [
    "#2"
   ]
  },
  {
   "cell_type": "code",
   "execution_count": 129,
   "id": "a87301c6",
   "metadata": {},
   "outputs": [],
   "source": [
    "a = [1,2,3,44,5,6]\n",
    "b = ['a','b','c']"
   ]
  },
  {
   "cell_type": "code",
   "execution_count": 130,
   "id": "aa67a7fd",
   "metadata": {},
   "outputs": [
    {
     "data": {
      "text/plain": [
       "[(1, 'a'), (2, 'b'), (3, 'c')]"
      ]
     },
     "execution_count": 130,
     "metadata": {},
     "output_type": "execute_result"
    }
   ],
   "source": [
    "list(zip(a,b))"
   ]
  },
  {
   "cell_type": "code",
   "execution_count": null,
   "id": "3fa01b67",
   "metadata": {},
   "outputs": [],
   "source": []
  },
  {
   "cell_type": "code",
   "execution_count": null,
   "id": "f7435039",
   "metadata": {},
   "outputs": [],
   "source": [
    "#3"
   ]
  },
  {
   "cell_type": "code",
   "execution_count": 132,
   "id": "fa8da7b4",
   "metadata": {},
   "outputs": [
    {
     "data": {
      "text/plain": [
       "[(7, 'a', 1), (8, 'b', 2), (9, 'c', 3)]"
      ]
     },
     "execution_count": 132,
     "metadata": {},
     "output_type": "execute_result"
    }
   ],
   "source": [
    "a = [1,2,3,44,5,6]\n",
    "b = ['a','b','c']\n",
    "c = [7,8,9,6,5,4,1,2,3,5]\n",
    "list(zip(c,b,a))"
   ]
  },
  {
   "cell_type": "code",
   "execution_count": null,
   "id": "113d477c",
   "metadata": {},
   "outputs": [],
   "source": []
  },
  {
   "cell_type": "markdown",
   "id": "ea0a364c",
   "metadata": {},
   "source": [
    "### ASSIGNMENT"
   ]
  },
  {
   "cell_type": "code",
   "execution_count": null,
   "id": "0a6ddc1f",
   "metadata": {},
   "outputs": [],
   "source": [
    "#1 \n",
    "# What will be the output of the following code snippet:"
   ]
  },
  {
   "cell_type": "code",
   "execution_count": 133,
   "id": "86d660ef",
   "metadata": {},
   "outputs": [
    {
     "name": "stdout",
     "output_type": "stream",
     "text": [
      "4\n"
     ]
    }
   ],
   "source": [
    "import functools\n",
    "lists = [1,2,3,4]\n",
    "print(functools.reduce(lambda x,y : x if x > y else y ,lists))"
   ]
  },
  {
   "cell_type": "code",
   "execution_count": null,
   "id": "2b095c72",
   "metadata": {},
   "outputs": [],
   "source": [
    "'''\n",
    "The reduce(fun,seq) function is used to apply a particular function passed in its argument to all of the list elements mentioned in the sequence passed along.This function is defined in “functools” module.\n",
    "\n",
    "Working :  \n",
    "\n",
    "At first step, first two elements of sequence are picked and the result is obtained.\n",
    "Next step is to apply the same function to the previously attained result and the number just succeeding the second element and the result is again stored.\n",
    "This process continues till no more elements are left in the container.\n",
    "The final returned result is returned and printed on console.\n",
    "\n",
    "give x if x is greater else y\n",
    "x y (x>y) <become new x>  y  (x>y)  y   (x>y) - final_result\n",
    "1 2   2        2          3    3    4    4       4\n",
    "\n",
    "'''"
   ]
  },
  {
   "cell_type": "code",
   "execution_count": null,
   "id": "0c7b4889",
   "metadata": {},
   "outputs": [],
   "source": []
  },
  {
   "cell_type": "code",
   "execution_count": 144,
   "id": "e34a0e0c",
   "metadata": {},
   "outputs": [],
   "source": [
    "# 2\n",
    "# What will the output of the following code snippet:\n",
    "\n",
    "sentence = \"abc cde def\"\n",
    "result = tuple(map(lambda x: list(x), sentence.split(\" \")))"
   ]
  },
  {
   "cell_type": "code",
   "execution_count": 145,
   "id": "dcf032aa",
   "metadata": {},
   "outputs": [
    {
     "name": "stdout",
     "output_type": "stream",
     "text": [
      "(['a', 'b', 'c'], ['c', 'd', 'e'], ['d', 'e', 'f'])\n"
     ]
    }
   ],
   "source": [
    "print(result)"
   ]
  },
  {
   "cell_type": "code",
   "execution_count": null,
   "id": "1f384af4",
   "metadata": {},
   "outputs": [],
   "source": []
  },
  {
   "cell_type": "code",
   "execution_count": 140,
   "id": "1a3ea471",
   "metadata": {},
   "outputs": [
    {
     "data": {
      "text/plain": [
       "['abc', 'cde', 'def']"
      ]
     },
     "execution_count": 140,
     "metadata": {},
     "output_type": "execute_result"
    }
   ],
   "source": [
    "s = \"abc cde def\"\n",
    "s.split(' ')"
   ]
  },
  {
   "cell_type": "code",
   "execution_count": 143,
   "id": "bb7640e8",
   "metadata": {},
   "outputs": [
    {
     "data": {
      "text/plain": [
       "['a', 'b', 'c']"
      ]
     },
     "execution_count": 143,
     "metadata": {},
     "output_type": "execute_result"
    }
   ],
   "source": [
    "list('abc')"
   ]
  },
  {
   "cell_type": "code",
   "execution_count": null,
   "id": "4734b0b6",
   "metadata": {},
   "outputs": [],
   "source": []
  },
  {
   "cell_type": "code",
   "execution_count": null,
   "id": "cec788d7",
   "metadata": {},
   "outputs": [],
   "source": [
    "#3\n",
    "# What will be the output of the following code snippet:"
   ]
  },
  {
   "cell_type": "code",
   "execution_count": 155,
   "id": "f0f10869",
   "metadata": {},
   "outputs": [
    {
     "name": "stdout",
     "output_type": "stream",
     "text": [
      "a fully-managed MySQL and PostgreSQL\n"
     ]
    }
   ],
   "source": [
    "string = '''\n",
    "We spent several years building our own database engine, Amazon Aurora, a fully-managed MySQL and PostgreSQL-compatible service with the same or better durability and availability as\n",
    "the commercial engines, but at one-tenth of the cost. We were not surprised when this worked.\n",
    "'''\n",
    "result = lambda key, val: key[ key.find(val) -18 : key.find(val) +18 ] if val in key else -1\n",
    "\n",
    "print(result(string, 'SQL'))"
   ]
  },
  {
   "cell_type": "code",
   "execution_count": 156,
   "id": "5a9452c7",
   "metadata": {},
   "outputs": [
    {
     "data": {
      "text/plain": [
       "True"
      ]
     },
     "execution_count": 156,
     "metadata": {},
     "output_type": "execute_result"
    }
   ],
   "source": [
    "'SQL' in string"
   ]
  },
  {
   "cell_type": "code",
   "execution_count": null,
   "id": "d1249531",
   "metadata": {},
   "outputs": [],
   "source": []
  },
  {
   "cell_type": "code",
   "execution_count": 150,
   "id": "fb7f6ec8",
   "metadata": {},
   "outputs": [
    {
     "data": {
      "text/plain": [
       "2"
      ]
     },
     "execution_count": 150,
     "metadata": {},
     "output_type": "execute_result"
    }
   ],
   "source": [
    "s = ' YOU OU, what are you doing, how was your weekend? '\n",
    "s.find('OU')"
   ]
  },
  {
   "cell_type": "code",
   "execution_count": 154,
   "id": "4e0f3dce",
   "metadata": {},
   "outputs": [
    {
     "data": {
      "text/plain": [
       "' YO'"
      ]
     },
     "execution_count": 154,
     "metadata": {},
     "output_type": "execute_result"
    }
   ],
   "source": [
    "s = ' YOU OU, what are you doing, how was your weekend? '\n",
    "s[0:3]"
   ]
  },
  {
   "cell_type": "code",
   "execution_count": null,
   "id": "789003fc",
   "metadata": {},
   "outputs": [],
   "source": []
  },
  {
   "cell_type": "code",
   "execution_count": null,
   "id": "04e362e8",
   "metadata": {},
   "outputs": [],
   "source": [
    "#4"
   ]
  },
  {
   "cell_type": "code",
   "execution_count": null,
   "id": "5c39eeb7",
   "metadata": {},
   "outputs": [],
   "source": [
    "# What will be the output of the following code snippet?"
   ]
  },
  {
   "cell_type": "code",
   "execution_count": 157,
   "id": "9ca7e475",
   "metadata": {},
   "outputs": [],
   "source": [
    "array = [ [1, [ [ 2 ] ], [ [ [ 3 ] ] ], [ [ 4 ], 5 ] ]]\n",
    "\n",
    "result = lambda x: sum(map(result, x), [ ] ) if isinstance(x, list) else [x]\n"
   ]
  },
  {
   "cell_type": "code",
   "execution_count": 158,
   "id": "78021f63",
   "metadata": {},
   "outputs": [
    {
     "name": "stdout",
     "output_type": "stream",
     "text": [
      "[1, 2, 3, 4, 5]\n"
     ]
    }
   ],
   "source": [
    "print(result(array))"
   ]
  },
  {
   "cell_type": "code",
   "execution_count": null,
   "id": "2f943f1b",
   "metadata": {},
   "outputs": [],
   "source": []
  },
  {
   "cell_type": "code",
   "execution_count": null,
   "id": "c1cf52fc",
   "metadata": {},
   "outputs": [],
   "source": [
    "#5"
   ]
  },
  {
   "cell_type": "code",
   "execution_count": null,
   "id": "340b7f65",
   "metadata": {},
   "outputs": [],
   "source": [
    "# Which given option is equivalent to the following code:"
   ]
  },
  {
   "cell_type": "code",
   "execution_count": 159,
   "id": "83462e9a",
   "metadata": {},
   "outputs": [],
   "source": [
    "array  = [1, 2, 3, 4, 5]\n",
    "def func1(x):\n",
    "    return x<0\n",
    "result=filter(func1, array)\n"
   ]
  },
  {
   "cell_type": "code",
   "execution_count": 160,
   "id": "0d44a59b",
   "metadata": {},
   "outputs": [
    {
     "name": "stdout",
     "output_type": "stream",
     "text": [
      "[]\n"
     ]
    }
   ],
   "source": [
    "print(list(result))"
   ]
  },
  {
   "cell_type": "code",
   "execution_count": 161,
   "id": "6309b236",
   "metadata": {},
   "outputs": [
    {
     "data": {
      "text/plain": [
       "[]"
      ]
     },
     "execution_count": 161,
     "metadata": {},
     "output_type": "execute_result"
    }
   ],
   "source": [
    "list(filter(lambda x: x<0,array))"
   ]
  },
  {
   "cell_type": "code",
   "execution_count": null,
   "id": "99e71a03",
   "metadata": {},
   "outputs": [],
   "source": []
  },
  {
   "cell_type": "markdown",
   "id": "0a614529",
   "metadata": {},
   "source": [
    "#### ADDITIONAL PROBLEM"
   ]
  },
  {
   "cell_type": "code",
   "execution_count": null,
   "id": "4582e3ff",
   "metadata": {},
   "outputs": [],
   "source": [
    "# What will be the output of the following code snippet:"
   ]
  },
  {
   "cell_type": "code",
   "execution_count": 162,
   "id": "1723564f",
   "metadata": {},
   "outputs": [],
   "source": [
    "from functools import reduce\n",
    "array = {1, 2, 3}\n",
    "\n",
    "result = lambda array: reduce(lambda P, x: P + [subset | {x} for subset in P], array , [set()]) "
   ]
  },
  {
   "cell_type": "code",
   "execution_count": 163,
   "id": "28207048",
   "metadata": {},
   "outputs": [
    {
     "name": "stdout",
     "output_type": "stream",
     "text": [
      "[set(), {1}, {2}, {1, 2}, {3}, {1, 3}, {2, 3}, {1, 2, 3}]\n"
     ]
    }
   ],
   "source": [
    "print(result(array))"
   ]
  },
  {
   "cell_type": "code",
   "execution_count": null,
   "id": "ada5adae",
   "metadata": {},
   "outputs": [],
   "source": []
  },
  {
   "cell_type": "code",
   "execution_count": null,
   "id": "e96ce516",
   "metadata": {},
   "outputs": [],
   "source": [
    "#2"
   ]
  },
  {
   "cell_type": "code",
   "execution_count": 164,
   "id": "3c86a647",
   "metadata": {},
   "outputs": [
    {
     "name": "stdout",
     "output_type": "stream",
     "text": [
      "['SAM@gmail.com', 'sam@gmail.com', 'samJohnson@iit.com', 'SAM@harvard.com']\n"
     ]
    }
   ],
   "source": [
    "ids = [\"SAM@gmail.com\", \"Ram@gmail.com\", \"sam@gmail.com\", \"samJohnson@iit.com\", \"SAM@harvard.com\"]\n",
    "name = \"sam\"\n",
    "result = list(filter(lambda x : name in x.lower() , ids))\n",
    "print(result)"
   ]
  },
  {
   "cell_type": "code",
   "execution_count": null,
   "id": "20724946",
   "metadata": {},
   "outputs": [],
   "source": []
  },
  {
   "cell_type": "code",
   "execution_count": null,
   "id": "4b2f76ae",
   "metadata": {},
   "outputs": [],
   "source": []
  },
  {
   "cell_type": "code",
   "execution_count": null,
   "id": "62498128",
   "metadata": {},
   "outputs": [],
   "source": []
  },
  {
   "cell_type": "code",
   "execution_count": null,
   "id": "b2c26786",
   "metadata": {},
   "outputs": [],
   "source": []
  },
  {
   "cell_type": "code",
   "execution_count": null,
   "id": "682a928c",
   "metadata": {},
   "outputs": [],
   "source": []
  },
  {
   "cell_type": "code",
   "execution_count": null,
   "id": "ea58b97f",
   "metadata": {},
   "outputs": [],
   "source": []
  }
 ],
 "metadata": {
  "kernelspec": {
   "display_name": "Python 3 (ipykernel)",
   "language": "python",
   "name": "python3"
  },
  "language_info": {
   "codemirror_mode": {
    "name": "ipython",
    "version": 3
   },
   "file_extension": ".py",
   "mimetype": "text/x-python",
   "name": "python",
   "nbconvert_exporter": "python",
   "pygments_lexer": "ipython3",
   "version": "3.9.12"
  }
 },
 "nbformat": 4,
 "nbformat_minor": 5
}
